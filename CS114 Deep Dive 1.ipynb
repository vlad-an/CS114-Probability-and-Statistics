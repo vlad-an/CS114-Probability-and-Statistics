{
 "cells": [
  {
   "cell_type": "code",
   "execution_count": 4,
   "metadata": {},
   "outputs": [
    {
     "data": {
      "image/png": "[encoded data removed]",
      "text/plain": [
       "<Figure size 432x288 with 1 Axes>"
      ]
     },
     "metadata": {
      "needs_background": "light"
     },
     "output_type": "display_data"
    }
   ],
   "source": [
    "import numpy as np\n",
    "import matplotlib.pyplot as plt\n",
    "\n",
    "n = 10000 # number of trials\n",
    "participants = 100\n",
    "use_drugs_number = [] # list that stores the number of drug users for each trial, given 20 'yes' answers\n",
    "\n",
    "#generates trials\n",
    "for i in range(n):\n",
    "    answer_yes = 0\n",
    "    use_drugs_truefalse = [] # list that stores drug users cases as True or False for each trial and participant\n",
    "    \n",
    "    #generates each participant\n",
    "    for i in range(participants):\n",
    "        #simulates people born in winter and not using relevant fraction\n",
    "        if np.random.uniform() < 0.25:\n",
    "            born_in_winter = True\n",
    "        else:\n",
    "            born_in_winter = False\n",
    "        #simulates people who use drugs and not using relevant fraction    \n",
    "        if np.random.uniform() < 0.15:\n",
    "            drug_user = True\n",
    "        else:\n",
    "            drug_user = False\n",
    "        #simulates papers with question about drugs and about birth date using relevant fraction\n",
    "        if np.random.uniform() < 0.5:\n",
    "            drug_question = True\n",
    "        else:\n",
    "            drug_question = False\n",
    "            \n",
    "        use_drugs_truefalse.append(drug_user) #collects info on the usage of drugs \n",
    "        \n",
    "        #counts the number of total 'yes' answers\n",
    "        if drug_question==True and drug_user==True or drug_question==False and born_in_winter==True:\n",
    "            answer_yes += 1\n",
    "    #calculate the number of drug users for the trial with 20 'yes' answers\n",
    "    if answer_yes == 20:\n",
    "        use_drugs_number.append(sum(use_drugs_truefalse))\n",
    "    \n",
    "plt.hist(use_drugs_number)\n",
    "plt.title('Bayesian Posterior over Drug Users')\n",
    "plt.ylabel('Frequency')\n",
    "plt.xlabel('Fraction of drug users (out of 100)')\n",
    "plt.show()"
   ]
  },
  {
   "cell_type": "code",
   "execution_count": 5,
   "metadata": {},
   "outputs": [
    {
     "data": {
      "image/png": "[encoded data removed]",
      "text/plain": [
       "<Figure size 432x288 with 1 Axes>"
      ]
     },
     "metadata": {
      "needs_background": "light"
     },
     "output_type": "display_data"
    }
   ],
   "source": [
    "import scipy.stats as sts\n",
    "import matplotlib.pyplot as plt\n",
    "import numpy as np\n",
    "\n",
    "# define null hypothesis as hypergeomtric distribution with corresponding parameters\n",
    "null = sts.hypergeom(200000, 100000, 613) \n",
    "\n",
    "#define the range of the plot and plot the distribution under null model \n",
    "x = np.arange(250, 370) \n",
    "plt.bar(x, null.pmf(x), label='Distribution Under Null Model')\n",
    "\n",
    "# plot chosen test statistic as a line\n",
    "plt.axvline(314, color='red', label='Real Test Statistic')\n",
    "plt.legend()\n",
    "plt.show()"
   ]
  },
  {
   "cell_type": "code",
   "execution_count": 7,
   "metadata": {},
   "outputs": [
    {
     "name": "stdout",
     "output_type": "stream",
     "text": [
      "p value: 0.28560476124170264\n"
     ]
    }
   ],
   "source": [
    "#computes p-value\n",
    "p_value = 1 - null.cdf(314 - 1)\n",
    "print('p value:', p_value)"
   ]
  },
  {
   "cell_type": "code",
   "execution_count": 9,
   "metadata": {},
   "outputs": [
    {
     "data": {
      "text/plain": [
       "0.0026368168355298035"
      ]
     },
     "execution_count": 9,
     "metadata": {},
     "output_type": "execute_result"
    }
   ],
   "source": [
    " sts.binom.pmf(n=8,p=0.01,k=2)+sts.binom.pmf(n=8,p=0.01,k=4)"
   ]
  },
  {
   "cell_type": "code",
   "execution_count": null,
   "metadata": {},
   "outputs": [],
   "source": []
  }
 ],
 "metadata": {
  "kernelspec": {
   "display_name": "Python 3",
   "language": "python",
   "name": "python3"
  },
  "language_info": {
   "codemirror_mode": {
    "name": "ipython",
    "version": 3
   },
   "file_extension": ".py",
   "mimetype": "text/x-python",
   "name": "python",
   "nbconvert_exporter": "python",
   "pygments_lexer": "ipython3",
   "version": "3.8.3"
  }
 },
 "nbformat": 4,
 "nbformat_minor": 4
}
